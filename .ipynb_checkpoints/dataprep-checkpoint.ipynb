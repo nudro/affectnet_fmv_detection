version https://git-lfs.github.com/spec/v1
oid sha256:4e769a112629b55125de9148f96aee42db911badd9b22922592a10f36d1917d0
size 30659
