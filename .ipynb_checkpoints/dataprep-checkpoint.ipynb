{
 "cells": [
  {
   "cell_type": "code",
   "execution_count": 1,
   "metadata": {},
   "outputs": [],
   "source": [
    "from __future__ import print_function\n",
    "\n",
    "import numpy as np\n",
    "import matplotlib.pyplot as plt\n",
    "from IPython.display import display # to display images\n",
    "from PIL import Image\n",
    "import os, sys\n",
    "import pandas as pd\n",
    "%matplotlib inline "
   ]
  },
  {
   "cell_type": "code",
   "execution_count": 5,
   "metadata": {},
   "outputs": [
    {
     "data": {
      "text/html": [
       "<div>\n",
       "<style scoped>\n",
       "    .dataframe tbody tr th:only-of-type {\n",
       "        vertical-align: middle;\n",
       "    }\n",
       "\n",
       "    .dataframe tbody tr th {\n",
       "        vertical-align: top;\n",
       "    }\n",
       "\n",
       "    .dataframe thead th {\n",
       "        text-align: right;\n",
       "    }\n",
       "</style>\n",
       "<table border=\"1\" class=\"dataframe\">\n",
       "  <thead>\n",
       "    <tr style=\"text-align: right;\">\n",
       "      <th></th>\n",
       "      <th>subDirectory_filePath</th>\n",
       "      <th>face_x</th>\n",
       "      <th>face_y</th>\n",
       "      <th>face_width</th>\n",
       "      <th>face_height</th>\n",
       "      <th>facial_landmarks</th>\n",
       "      <th>expression</th>\n",
       "      <th>valence</th>\n",
       "      <th>arousal</th>\n",
       "    </tr>\n",
       "  </thead>\n",
       "  <tbody>\n",
       "    <tr>\n",
       "      <th>0</th>\n",
       "      <td>689/737db2483489148d783ef278f43f486c0a97e140fc...</td>\n",
       "      <td>134</td>\n",
       "      <td>134</td>\n",
       "      <td>899</td>\n",
       "      <td>899</td>\n",
       "      <td>181.64;530.91;188.32;627.82;195.1;723.37;205.2...</td>\n",
       "      <td>1</td>\n",
       "      <td>0.785714</td>\n",
       "      <td>-0.055556</td>\n",
       "    </tr>\n",
       "    <tr>\n",
       "      <th>1</th>\n",
       "      <td>392/c4db2f9b7e4b422d14b6e038f0cdc3ecee239b5532...</td>\n",
       "      <td>20</td>\n",
       "      <td>20</td>\n",
       "      <td>137</td>\n",
       "      <td>137</td>\n",
       "      <td>28.82;77.52;29.12;93.25;31.04;108.51;33.03;123...</td>\n",
       "      <td>0</td>\n",
       "      <td>-0.017253</td>\n",
       "      <td>0.004313</td>\n",
       "    </tr>\n",
       "    <tr>\n",
       "      <th>2</th>\n",
       "      <td>468/21772b68dc8c2a11678c8739eca33adb6ccc658600...</td>\n",
       "      <td>11</td>\n",
       "      <td>11</td>\n",
       "      <td>176</td>\n",
       "      <td>176</td>\n",
       "      <td>30.52;87.33;32.55;106.43;36.94;125.81;43.06;14...</td>\n",
       "      <td>0</td>\n",
       "      <td>0.174603</td>\n",
       "      <td>0.007937</td>\n",
       "    </tr>\n",
       "    <tr>\n",
       "      <th>3</th>\n",
       "      <td>944/06e9ae8d3b240eb68fa60534783eacafce2def60a8...</td>\n",
       "      <td>40</td>\n",
       "      <td>40</td>\n",
       "      <td>269</td>\n",
       "      <td>269</td>\n",
       "      <td>44.43;158.17;47.08;189.2;50.54;221.88;58.3;253...</td>\n",
       "      <td>1</td>\n",
       "      <td>0.153401</td>\n",
       "      <td>0.038890</td>\n",
       "    </tr>\n",
       "    <tr>\n",
       "      <th>4</th>\n",
       "      <td>993/02e06ee5521958b4042dd73abb444220609d96f57b...</td>\n",
       "      <td>22</td>\n",
       "      <td>22</td>\n",
       "      <td>153</td>\n",
       "      <td>153</td>\n",
       "      <td>50.59;78.72;48.6;93.23;48.72;109.06;48.8;123.0...</td>\n",
       "      <td>8</td>\n",
       "      <td>0.783972</td>\n",
       "      <td>-0.551684</td>\n",
       "    </tr>\n",
       "  </tbody>\n",
       "</table>\n",
       "</div>"
      ],
      "text/plain": [
       "                               subDirectory_filePath  face_x  face_y  \\\n",
       "0  689/737db2483489148d783ef278f43f486c0a97e140fc...     134     134   \n",
       "1  392/c4db2f9b7e4b422d14b6e038f0cdc3ecee239b5532...      20      20   \n",
       "2  468/21772b68dc8c2a11678c8739eca33adb6ccc658600...      11      11   \n",
       "3  944/06e9ae8d3b240eb68fa60534783eacafce2def60a8...      40      40   \n",
       "4  993/02e06ee5521958b4042dd73abb444220609d96f57b...      22      22   \n",
       "\n",
       "   face_width  face_height                                   facial_landmarks  \\\n",
       "0         899          899  181.64;530.91;188.32;627.82;195.1;723.37;205.2...   \n",
       "1         137          137  28.82;77.52;29.12;93.25;31.04;108.51;33.03;123...   \n",
       "2         176          176  30.52;87.33;32.55;106.43;36.94;125.81;43.06;14...   \n",
       "3         269          269  44.43;158.17;47.08;189.2;50.54;221.88;58.3;253...   \n",
       "4         153          153  50.59;78.72;48.6;93.23;48.72;109.06;48.8;123.0...   \n",
       "\n",
       "   expression   valence   arousal  \n",
       "0           1  0.785714 -0.055556  \n",
       "1           0 -0.017253  0.004313  \n",
       "2           0  0.174603  0.007937  \n",
       "3           1  0.153401  0.038890  \n",
       "4           8  0.783972 -0.551684  "
      ]
     },
     "execution_count": 5,
     "metadata": {},
     "output_type": "execute_result"
    }
   ],
   "source": [
    "df = pd.read_csv('/home/catherine/Documents/Data/Originals/AffectNet_Manual/training.csv')\n",
    "df.head()"
   ]
  },
  {
   "cell_type": "code",
   "execution_count": 6,
   "metadata": {},
   "outputs": [
    {
     "data": {
      "text/plain": [
       "subDirectory_filePath     object\n",
       "face_x                     int64\n",
       "face_y                     int64\n",
       "face_width                 int64\n",
       "face_height                int64\n",
       "facial_landmarks          object\n",
       "expression                 int64\n",
       "valence                  float64\n",
       "arousal                  float64\n",
       "dtype: object"
      ]
     },
     "execution_count": 6,
     "metadata": {},
     "output_type": "execute_result"
    }
   ],
   "source": [
    "df.dtypes"
   ]
  },
  {
   "cell_type": "code",
   "execution_count": 18,
   "metadata": {},
   "outputs": [
    {
     "data": {
      "text/plain": [
       "Index(['subDirectory_filePath', 'face_x', 'face_y', 'face_width',\n",
       "       'face_height', 'facial_landmarks', 'expression', 'valence', 'arousal'],\n",
       "      dtype='object')"
      ]
     },
     "execution_count": 18,
     "metadata": {},
     "output_type": "execute_result"
    }
   ],
   "source": [
    "cols = df.columns\n",
    "cols"
   ]
  },
  {
   "cell_type": "code",
   "execution_count": 7,
   "metadata": {},
   "outputs": [
    {
     "data": {
      "text/plain": [
       "6378"
      ]
     },
     "execution_count": 7,
     "metadata": {},
     "output_type": "execute_result"
    }
   ],
   "source": [
    "fear = df.loc[(df[\"expression\"] == 4)]\n",
    "len(fear)"
   ]
  },
  {
   "cell_type": "code",
   "execution_count": 22,
   "metadata": {},
   "outputs": [
    {
     "data": {
      "text/plain": [
       "['758/c598d5afe4277c3cbb49bc6801fac0f1ddec2afa6bf6c0063691e9bd.jpg',\n",
       " 86,\n",
       " 86,\n",
       " 575,\n",
       " 575,\n",
       " '181.85;351.86;177.17;414.42;187.44;476.93;209.86;535.25;236.71;593.35;269.69;645.74;306.48;691.07;345.41;729.4;396.44;743.31;457.84;739.67;529.24;713.0;601.52;678.99;661.58;635.04;703.24;572.56;724.03;495.31;732.29;412.75;733.98;331.59;181.78;242.09;214.12;224.37;253.38;225.01;287.89;234.05;321.1;248.57;395.33;241.43;449.86;215.98;509.18;202.7;568.59;210.66;619.76;237.5;357.13;299.8;350.4;339.12;342.5;379.34;334.59;420.43;304.98;465.75;327.63;476.16;352.53;480.7;382.16;474.15;411.61;468.21;222.58;318.01;247.26;293.75;284.77;293.97;315.95;323.74;281.64;328.91;244.98;329.83;448.58;313.69;481.54;281.43;524.79;282.05;561.76;303.23;527.76;318.64;485.47;320.17;290.74;582.87;304.06;546.15;332.77;527.8;352.29;533.99;376.52;527.03;427.38;546.94;475.11;579.6;432.98;617.81;388.07;635.51;361.61;638.69;339.59;636.9;313.56;619.96;306.35;583.9;335.4;561.7;355.44;561.01;380.31;562.19;457.82;578.54;383.82;588.43;358.75;589.9;338.21;589.13',\n",
       " 4,\n",
       " -0.0677507,\n",
       " 0.7549359999999999]"
      ]
     },
     "execution_count": 22,
     "metadata": {},
     "output_type": "execute_result"
    }
   ],
   "source": [
    "list(fear.iloc[1])"
   ]
  },
  {
   "cell_type": "code",
   "execution_count": 9,
   "metadata": {},
   "outputs": [
    {
     "data": {
      "text/plain": [
       "74874"
      ]
     },
     "execution_count": 9,
     "metadata": {},
     "output_type": "execute_result"
    }
   ],
   "source": [
    "neutral = df.loc[(df[\"expression\"] == 0)]\n",
    "len(neutral)"
   ]
  },
  {
   "cell_type": "code",
   "execution_count": 11,
   "metadata": {},
   "outputs": [
    {
     "data": {
      "text/plain": [
       "6378"
      ]
     },
     "execution_count": 11,
     "metadata": {},
     "output_type": "execute_result"
    }
   ],
   "source": [
    "neutral_bal = neutral.sample(n=6378)\n",
    "len(neutral_bal)"
   ]
  },
  {
   "cell_type": "code",
   "execution_count": 13,
   "metadata": {},
   "outputs": [
    {
     "data": {
      "text/plain": [
       "['664/7bfb78ea4f9b9c267d74133421fbe5a7261fec6dd89cd4a730a39e69.jpg',\n",
       " 57,\n",
       " 57,\n",
       " 382,\n",
       " 382,\n",
       " '83.62;218.69;94.04;260.01;106.49;298.65;119.87;336.42;141.75;369.24;175.74;392.32;214.3;404.31;249.92;417.39;283.75;416.94;317.24;405.52;349.77;387.65;383.43;369.41;409.91;343.23;426.79;306.55;433.22;266.25;436.7;221.09;435.78;175.25;102.46;208.0;120.44;187.05;149.92;176.47;182.57;174.72;214.37;181.08;269.1;173.66;299.05;158.58;330.69;149.57;364.87;151.59;393.2;164.08;247.75;213.02;249.73;235.22;251.42;257.49;253.42;280.11;226.85;305.3;243.92;306.46;259.55;307.44;273.99;304.27;288.36;299.47;145.95;231.4;163.64;218.52;185.95;215.5;207.12;228.87;187.61;236.57;164.87;238.54;295.47;215.61;312.48;196.7;335.6;194.36;357.48;202.04;341.21;213.78;318.53;218.12;209.41;350.68;229.18;340.78;248.22;332.06;260.58;333.5;271.83;329.22;296.0;332.84;321.39;335.9;299.93;349.34;280.72;357.58;267.22;360.79;254.12;361.21;232.44;357.43;218.53;347.05;249.07;341.66;261.64;342.11;274.19;339.7;310.66;336.17;275.53;340.29;262.91;344.08;250.29;344.85',\n",
       " 0,\n",
       " 0.0398486,\n",
       " 0.08965930000000001]"
      ]
     },
     "execution_count": 13,
     "metadata": {},
     "output_type": "execute_result"
    }
   ],
   "source": [
    "list(neutral_bal.iloc[0])"
   ]
  },
  {
   "cell_type": "code",
   "execution_count": 64,
   "metadata": {},
   "outputs": [
    {
     "data": {
      "text/html": [
       "<div>\n",
       "<style scoped>\n",
       "    .dataframe tbody tr th:only-of-type {\n",
       "        vertical-align: middle;\n",
       "    }\n",
       "\n",
       "    .dataframe tbody tr th {\n",
       "        vertical-align: top;\n",
       "    }\n",
       "\n",
       "    .dataframe thead th {\n",
       "        text-align: right;\n",
       "    }\n",
       "</style>\n",
       "<table border=\"1\" class=\"dataframe\">\n",
       "  <thead>\n",
       "    <tr style=\"text-align: right;\">\n",
       "      <th></th>\n",
       "      <th>subDirectory_filePath</th>\n",
       "      <th>face_x</th>\n",
       "      <th>face_y</th>\n",
       "      <th>face_width</th>\n",
       "      <th>face_height</th>\n",
       "      <th>facial_landmarks</th>\n",
       "      <th>expression</th>\n",
       "      <th>valence</th>\n",
       "      <th>arousal</th>\n",
       "    </tr>\n",
       "  </thead>\n",
       "  <tbody>\n",
       "    <tr>\n",
       "      <th>362468</th>\n",
       "      <td>664/7bfb78ea4f9b9c267d74133421fbe5a7261fec6dd8...</td>\n",
       "      <td>57</td>\n",
       "      <td>57</td>\n",
       "      <td>382</td>\n",
       "      <td>382</td>\n",
       "      <td>83.62;218.69;94.04;260.01;106.49;298.65;119.87...</td>\n",
       "      <td>0</td>\n",
       "      <td>0.039849</td>\n",
       "      <td>0.089659</td>\n",
       "    </tr>\n",
       "    <tr>\n",
       "      <th>354187</th>\n",
       "      <td>491/17cddbca62511c5274372decf55acb9b9cc1018722...</td>\n",
       "      <td>382</td>\n",
       "      <td>382</td>\n",
       "      <td>2549</td>\n",
       "      <td>2549</td>\n",
       "      <td>691.95;1396.19;718.48;1647.58;771.93;1894.83;8...</td>\n",
       "      <td>0</td>\n",
       "      <td>-0.012940</td>\n",
       "      <td>0.004313</td>\n",
       "    </tr>\n",
       "    <tr>\n",
       "      <th>319339</th>\n",
       "      <td>803/a209b8441ba4376e84a51d7a996b4239af0853ea14...</td>\n",
       "      <td>69</td>\n",
       "      <td>69</td>\n",
       "      <td>484</td>\n",
       "      <td>484</td>\n",
       "      <td>48.52;279.9;47.77;339.98;50.37;396.59;55.79;45...</td>\n",
       "      <td>0</td>\n",
       "      <td>0.000000</td>\n",
       "      <td>-0.031746</td>\n",
       "    </tr>\n",
       "    <tr>\n",
       "      <th>319219</th>\n",
       "      <td>701/361a64bd25ed4dbe56deb03ad39b865cb6eb223f4a...</td>\n",
       "      <td>22</td>\n",
       "      <td>22</td>\n",
       "      <td>152</td>\n",
       "      <td>152</td>\n",
       "      <td>49.16;90.39;51.35;105.01;54.87;119.97;59.05;13...</td>\n",
       "      <td>0</td>\n",
       "      <td>0.075347</td>\n",
       "      <td>-0.082881</td>\n",
       "    </tr>\n",
       "    <tr>\n",
       "      <th>112774</th>\n",
       "      <td>365/79cdada04f4f86bbce1c61469c4ed55ef762d12301...</td>\n",
       "      <td>116</td>\n",
       "      <td>116</td>\n",
       "      <td>776</td>\n",
       "      <td>776</td>\n",
       "      <td>169.08;385.72;169.46;476.93;180.26;561.74;198....</td>\n",
       "      <td>0</td>\n",
       "      <td>0.000000</td>\n",
       "      <td>0.000000</td>\n",
       "    </tr>\n",
       "  </tbody>\n",
       "</table>\n",
       "</div>"
      ],
      "text/plain": [
       "                                    subDirectory_filePath  face_x  face_y  \\\n",
       "362468  664/7bfb78ea4f9b9c267d74133421fbe5a7261fec6dd8...      57      57   \n",
       "354187  491/17cddbca62511c5274372decf55acb9b9cc1018722...     382     382   \n",
       "319339  803/a209b8441ba4376e84a51d7a996b4239af0853ea14...      69      69   \n",
       "319219  701/361a64bd25ed4dbe56deb03ad39b865cb6eb223f4a...      22      22   \n",
       "112774  365/79cdada04f4f86bbce1c61469c4ed55ef762d12301...     116     116   \n",
       "\n",
       "        face_width  face_height  \\\n",
       "362468         382          382   \n",
       "354187        2549         2549   \n",
       "319339         484          484   \n",
       "319219         152          152   \n",
       "112774         776          776   \n",
       "\n",
       "                                         facial_landmarks  expression  \\\n",
       "362468  83.62;218.69;94.04;260.01;106.49;298.65;119.87...           0   \n",
       "354187  691.95;1396.19;718.48;1647.58;771.93;1894.83;8...           0   \n",
       "319339  48.52;279.9;47.77;339.98;50.37;396.59;55.79;45...           0   \n",
       "319219  49.16;90.39;51.35;105.01;54.87;119.97;59.05;13...           0   \n",
       "112774  169.08;385.72;169.46;476.93;180.26;561.74;198....           0   \n",
       "\n",
       "         valence   arousal  \n",
       "362468  0.039849  0.089659  \n",
       "354187 -0.012940  0.004313  \n",
       "319339  0.000000 -0.031746  \n",
       "319219  0.075347 -0.082881  \n",
       "112774  0.000000  0.000000  "
      ]
     },
     "execution_count": 64,
     "metadata": {},
     "output_type": "execute_result"
    }
   ],
   "source": [
    "neutral_bal.head()"
   ]
  },
  {
   "cell_type": "code",
   "execution_count": 16,
   "metadata": {},
   "outputs": [
    {
     "data": {
      "text/html": [
       "<div>\n",
       "<style scoped>\n",
       "    .dataframe tbody tr th:only-of-type {\n",
       "        vertical-align: middle;\n",
       "    }\n",
       "\n",
       "    .dataframe tbody tr th {\n",
       "        vertical-align: top;\n",
       "    }\n",
       "\n",
       "    .dataframe thead th {\n",
       "        text-align: right;\n",
       "    }\n",
       "</style>\n",
       "<table border=\"1\" class=\"dataframe\">\n",
       "  <thead>\n",
       "    <tr style=\"text-align: right;\">\n",
       "      <th></th>\n",
       "      <th>0</th>\n",
       "      <th>1</th>\n",
       "      <th>2</th>\n",
       "      <th>3</th>\n",
       "      <th>4</th>\n",
       "      <th>5</th>\n",
       "      <th>6</th>\n",
       "      <th>7</th>\n",
       "      <th>8</th>\n",
       "    </tr>\n",
       "  </thead>\n",
       "  <tbody>\n",
       "    <tr>\n",
       "      <th>0</th>\n",
       "      <td>459/81456263be241927c7a59a2646f88c2700ce4b7cba...</td>\n",
       "      <td>147</td>\n",
       "      <td>147</td>\n",
       "      <td>981</td>\n",
       "      <td>981</td>\n",
       "      <td>233.58;512.99;246.97;623.96;262.53;733.87;285....</td>\n",
       "      <td>7</td>\n",
       "      <td>-0.653310</td>\n",
       "      <td>0.653310</td>\n",
       "    </tr>\n",
       "    <tr>\n",
       "      <th>1</th>\n",
       "      <td>680/cfa0c679da3dbe9f01e92cdeda2da1065aa50e7bf0...</td>\n",
       "      <td>99</td>\n",
       "      <td>99</td>\n",
       "      <td>666</td>\n",
       "      <td>666</td>\n",
       "      <td>98.98;341.86;107.43;422.6;123.41;503.32;144.97...</td>\n",
       "      <td>0</td>\n",
       "      <td>-0.176846</td>\n",
       "      <td>-0.077640</td>\n",
       "    </tr>\n",
       "    <tr>\n",
       "      <th>2</th>\n",
       "      <td>1042/83dac9d7eec7fb0bfef79b4d35ddc69a6f7fb458d...</td>\n",
       "      <td>16</td>\n",
       "      <td>16</td>\n",
       "      <td>133</td>\n",
       "      <td>133</td>\n",
       "      <td>42.69;79.9;42.94;90.59;43.83;101.27;44.2;112.5...</td>\n",
       "      <td>0</td>\n",
       "      <td>-0.367789</td>\n",
       "      <td>0.183895</td>\n",
       "    </tr>\n",
       "    <tr>\n",
       "      <th>3</th>\n",
       "      <td>887/49e4872adc501d5e69b8898930bbd4f4e037022874...</td>\n",
       "      <td>78</td>\n",
       "      <td>78</td>\n",
       "      <td>522</td>\n",
       "      <td>522</td>\n",
       "      <td>49.66;304.48;48.91;361.36;52.08;421.7;64.76;48...</td>\n",
       "      <td>4</td>\n",
       "      <td>-0.062911</td>\n",
       "      <td>0.532327</td>\n",
       "    </tr>\n",
       "    <tr>\n",
       "      <th>4</th>\n",
       "      <td>1057/0745dd0386476ae193ca709034378c9207e48ae88...</td>\n",
       "      <td>36</td>\n",
       "      <td>36</td>\n",
       "      <td>258</td>\n",
       "      <td>258</td>\n",
       "      <td>21.82;115.14;18.22;152.92;20.65;190.43;26.14;2...</td>\n",
       "      <td>0</td>\n",
       "      <td>0.004839</td>\n",
       "      <td>-0.004839</td>\n",
       "    </tr>\n",
       "  </tbody>\n",
       "</table>\n",
       "</div>"
      ],
      "text/plain": [
       "                                                   0    1    2    3    4  \\\n",
       "0  459/81456263be241927c7a59a2646f88c2700ce4b7cba...  147  147  981  981   \n",
       "1  680/cfa0c679da3dbe9f01e92cdeda2da1065aa50e7bf0...   99   99  666  666   \n",
       "2  1042/83dac9d7eec7fb0bfef79b4d35ddc69a6f7fb458d...   16   16  133  133   \n",
       "3  887/49e4872adc501d5e69b8898930bbd4f4e037022874...   78   78  522  522   \n",
       "4  1057/0745dd0386476ae193ca709034378c9207e48ae88...   36   36  258  258   \n",
       "\n",
       "                                                   5  6         7         8  \n",
       "0  233.58;512.99;246.97;623.96;262.53;733.87;285....  7 -0.653310  0.653310  \n",
       "1  98.98;341.86;107.43;422.6;123.41;503.32;144.97...  0 -0.176846 -0.077640  \n",
       "2  42.69;79.9;42.94;90.59;43.83;101.27;44.2;112.5...  0 -0.367789  0.183895  \n",
       "3  49.66;304.48;48.91;361.36;52.08;421.7;64.76;48...  4 -0.062911  0.532327  \n",
       "4  21.82;115.14;18.22;152.92;20.65;190.43;26.14;2...  0  0.004839 -0.004839  "
      ]
     },
     "execution_count": 16,
     "metadata": {},
     "output_type": "execute_result"
    }
   ],
   "source": [
    "df_val = pd.read_csv('/home/catherine/Documents/Data/Originals/AffectNet_Manual/validation.csv', header=None)\n",
    "df_val.head()"
   ]
  },
  {
   "cell_type": "code",
   "execution_count": 19,
   "metadata": {},
   "outputs": [
    {
     "data": {
      "text/html": [
       "<div>\n",
       "<style scoped>\n",
       "    .dataframe tbody tr th:only-of-type {\n",
       "        vertical-align: middle;\n",
       "    }\n",
       "\n",
       "    .dataframe tbody tr th {\n",
       "        vertical-align: top;\n",
       "    }\n",
       "\n",
       "    .dataframe thead th {\n",
       "        text-align: right;\n",
       "    }\n",
       "</style>\n",
       "<table border=\"1\" class=\"dataframe\">\n",
       "  <thead>\n",
       "    <tr style=\"text-align: right;\">\n",
       "      <th></th>\n",
       "      <th>subDirectory_filePath</th>\n",
       "      <th>face_x</th>\n",
       "      <th>face_y</th>\n",
       "      <th>face_width</th>\n",
       "      <th>face_height</th>\n",
       "      <th>facial_landmarks</th>\n",
       "      <th>expression</th>\n",
       "      <th>valence</th>\n",
       "      <th>arousal</th>\n",
       "    </tr>\n",
       "  </thead>\n",
       "  <tbody>\n",
       "    <tr>\n",
       "      <th>0</th>\n",
       "      <td>459/81456263be241927c7a59a2646f88c2700ce4b7cba...</td>\n",
       "      <td>147</td>\n",
       "      <td>147</td>\n",
       "      <td>981</td>\n",
       "      <td>981</td>\n",
       "      <td>233.58;512.99;246.97;623.96;262.53;733.87;285....</td>\n",
       "      <td>7</td>\n",
       "      <td>-0.653310</td>\n",
       "      <td>0.653310</td>\n",
       "    </tr>\n",
       "    <tr>\n",
       "      <th>1</th>\n",
       "      <td>680/cfa0c679da3dbe9f01e92cdeda2da1065aa50e7bf0...</td>\n",
       "      <td>99</td>\n",
       "      <td>99</td>\n",
       "      <td>666</td>\n",
       "      <td>666</td>\n",
       "      <td>98.98;341.86;107.43;422.6;123.41;503.32;144.97...</td>\n",
       "      <td>0</td>\n",
       "      <td>-0.176846</td>\n",
       "      <td>-0.077640</td>\n",
       "    </tr>\n",
       "    <tr>\n",
       "      <th>2</th>\n",
       "      <td>1042/83dac9d7eec7fb0bfef79b4d35ddc69a6f7fb458d...</td>\n",
       "      <td>16</td>\n",
       "      <td>16</td>\n",
       "      <td>133</td>\n",
       "      <td>133</td>\n",
       "      <td>42.69;79.9;42.94;90.59;43.83;101.27;44.2;112.5...</td>\n",
       "      <td>0</td>\n",
       "      <td>-0.367789</td>\n",
       "      <td>0.183895</td>\n",
       "    </tr>\n",
       "    <tr>\n",
       "      <th>3</th>\n",
       "      <td>887/49e4872adc501d5e69b8898930bbd4f4e037022874...</td>\n",
       "      <td>78</td>\n",
       "      <td>78</td>\n",
       "      <td>522</td>\n",
       "      <td>522</td>\n",
       "      <td>49.66;304.48;48.91;361.36;52.08;421.7;64.76;48...</td>\n",
       "      <td>4</td>\n",
       "      <td>-0.062911</td>\n",
       "      <td>0.532327</td>\n",
       "    </tr>\n",
       "    <tr>\n",
       "      <th>4</th>\n",
       "      <td>1057/0745dd0386476ae193ca709034378c9207e48ae88...</td>\n",
       "      <td>36</td>\n",
       "      <td>36</td>\n",
       "      <td>258</td>\n",
       "      <td>258</td>\n",
       "      <td>21.82;115.14;18.22;152.92;20.65;190.43;26.14;2...</td>\n",
       "      <td>0</td>\n",
       "      <td>0.004839</td>\n",
       "      <td>-0.004839</td>\n",
       "    </tr>\n",
       "  </tbody>\n",
       "</table>\n",
       "</div>"
      ],
      "text/plain": [
       "                               subDirectory_filePath  face_x  face_y  \\\n",
       "0  459/81456263be241927c7a59a2646f88c2700ce4b7cba...     147     147   \n",
       "1  680/cfa0c679da3dbe9f01e92cdeda2da1065aa50e7bf0...      99      99   \n",
       "2  1042/83dac9d7eec7fb0bfef79b4d35ddc69a6f7fb458d...      16      16   \n",
       "3  887/49e4872adc501d5e69b8898930bbd4f4e037022874...      78      78   \n",
       "4  1057/0745dd0386476ae193ca709034378c9207e48ae88...      36      36   \n",
       "\n",
       "   face_width  face_height                                   facial_landmarks  \\\n",
       "0         981          981  233.58;512.99;246.97;623.96;262.53;733.87;285....   \n",
       "1         666          666  98.98;341.86;107.43;422.6;123.41;503.32;144.97...   \n",
       "2         133          133  42.69;79.9;42.94;90.59;43.83;101.27;44.2;112.5...   \n",
       "3         522          522  49.66;304.48;48.91;361.36;52.08;421.7;64.76;48...   \n",
       "4         258          258  21.82;115.14;18.22;152.92;20.65;190.43;26.14;2...   \n",
       "\n",
       "   expression   valence   arousal  \n",
       "0           7 -0.653310  0.653310  \n",
       "1           0 -0.176846 -0.077640  \n",
       "2           0 -0.367789  0.183895  \n",
       "3           4 -0.062911  0.532327  \n",
       "4           0  0.004839 -0.004839  "
      ]
     },
     "execution_count": 19,
     "metadata": {},
     "output_type": "execute_result"
    }
   ],
   "source": [
    "df_val.columns = df.columns\n",
    "df_val.head()"
   ]
  },
  {
   "cell_type": "code",
   "execution_count": 62,
   "metadata": {},
   "outputs": [
    {
     "data": {
      "text/plain": [
       "6378"
      ]
     },
     "execution_count": 62,
     "metadata": {},
     "output_type": "execute_result"
    }
   ],
   "source": [
    "len(neutral_bal)"
   ]
  },
  {
   "cell_type": "markdown",
   "metadata": {},
   "source": [
    "Sweep through the directory"
   ]
  },
  {
   "cell_type": "code",
   "execution_count": 60,
   "metadata": {},
   "outputs": [],
   "source": [
    "source_dir = '/home/catherine/Documents/Data/affectnet'\n",
    "fear_dir = '/home/catherine/Documents/Data/fear'\n",
    "neutral_dir = '/home/catherine/Documents/Data/neutral'\n",
    "\n",
    "def sweepit(source, dest, df):\n",
    "    dirs = os.listdir(source)\n",
    "    for index, rows in df.iterrows():\n",
    "        filename = rows['subDirectory_filePath']\n",
    "        fullpath = os.path.join(source, filename)\n",
    "        if os.path.isfile(fullpath):\n",
    "            im = Image.open(fullpath)\n",
    "            f = os.path.basename(fullpath)\n",
    "            f = os.path.splitext(f)[0] #returns 'c598d5afe4277c3cbb49bc6801fac0f1ddec2afa6bf6c0063691e9bd' without the .jpg, otherwise it will be .jpg.png as the extension!\n",
    "            print (f)\n",
    "            im.save(dest + \"/\" + f + \".png\", \"PNG\", quality=100)\n"
   ]
  },
  {
   "cell_type": "code",
   "execution_count": null,
   "metadata": {},
   "outputs": [
    {
     "name": "stdout",
     "output_type": "stream",
     "text": [
      "7bfb78ea4f9b9c267d74133421fbe5a7261fec6dd89cd4a730a39e69\n",
      "17cddbca62511c5274372decf55acb9b9cc10187227d2c83229fc2cb\n",
      "a209b8441ba4376e84a51d7a996b4239af0853ea14ae86d42e8d53dd\n",
      "361a64bd25ed4dbe56deb03ad39b865cb6eb223f4aab9e1e0b7b1edf\n",
      "79cdada04f4f86bbce1c61469c4ed55ef762d12301c780cc16533192\n",
      "3e8a1a9aeb3a4d2fe472b6fd83968ffd6db80842d3a11b7ea0f6eeaa\n",
      "80375c358a78ca6d04ffc5b5e38b19903b9b427e2acff71ab0f54590\n",
      "b283440a11be688feff394477af62bd4247a9a0a2c935234d4dbaf84\n",
      "2d94b9a32953d0cf8be3dc8e24074e41db864260ec125f27765156a2\n",
      "3c3c5a63de3a91725cfff4f562681e0035bbaa0e2ea873e46b50726c\n",
      "9e22972862ad8b8b02099326940afdcabe8f6668b2978272651f120c\n",
      "699492b9899a83eb80bda4e0d0056b7f8b2ba6dfe0b4388d70249340\n",
      "920c8ea2f57a48414b4a0e5d3f1b2951bc9bde2d42fd91b95731e413\n",
      "f9dd4d5c7708bfc040c9cefab9afe59fafbb4be2b4d5680f92d1fa74\n",
      "372c7ab9ebce00926c413096addb5ea874348c5b87bd39db39a8e6b6\n",
      "0ed7944feb55d61e8814b1c7816b810aaa1ef098a09c1a8e4d40ea74\n",
      "00aa9b3066ef8149271ce72aa9142699480716f7a67c95dcfd7c0878\n",
      "82f0f56bf7569bb216225816b14c8ff0a7181e693b7b349b33e4c039\n",
      "32fc060142a2f339e42f583d3bb834708c06307d80539679f30e6c87\n",
      "fc2c9394f524baa69b8d4e1d7e225c2e2aa32313f22d25ac32d2bbb1\n",
      "0574246d9edc1aadb91a03098506336d7ee4dd79d0c8b90b972ba766\n",
      "9d4f237cae3dde7b936998e64a90680c54682082fae54915995e3f77\n",
      "487d75fa5a02cf7e4d7ad9647ef501ee5394e4ef3daa00bd96eb0601\n",
      "30d545415dfa8e45a45781ef3ebf9bd4fdb7b44e07b400e90199f303\n",
      "9395aa5dfdfeb4564b78cab9c134cf640711ac27a6ecc81b0892e880\n",
      "605fa52b96e7da719e20602d838973120b92c4724fd04c53d9c69736\n",
      "361a223f3797f616a481ade0c8680d25863bdea31efdf5ce14ae6817\n",
      "1ac1ce3943c710068133356215c4270e02484f2c5d64e00809330ec2\n",
      "c5a1b5d37cc3c261392952e06d2cfe15fce91f79a266bb012e55b44e\n",
      "4a164923d9e5f9981e2a467d82105b4acbdb5efc82f91c2e20b4f8f4\n",
      "2b96795a6a58a66d09abf13ff3292cc94a55d3f9423c235c469ec4c3\n",
      "a03917b157fdd1d5292abea3bff5c667a24eed80473f8cdb0afbe195\n",
      "e9edda12a742708ca3b0aad3da125a18e1aa414e402a8b7f605b1c84\n",
      "32d5aab74235a7267458fc3927d46a17c7493c28909e0cb5be3dc6ba\n",
      "667743efce117362b0fd0c1eba3154e71e3ef8953082000e35ddfb8d\n",
      "4fd5aee27dd4b812af6900769a5b134345d1deb6a99a294acfde7e92\n",
      "2d8f8be1ce4c38896dc363a9409262d030780c407e48824dc1865dea\n",
      "db27e6e348e46d0bcf8a9c4e2824d91507f1e130515fd781fa6b7cdf\n"
     ]
    }
   ],
   "source": [
    "sweepit(source_dir, neutral_dir, neutral_bal)"
   ]
  },
  {
   "cell_type": "code",
   "execution_count": null,
   "metadata": {},
   "outputs": [],
   "source": [
    "sweepit(source_dir, fear_dir, fear)"
   ]
  },
  {
   "cell_type": "code",
   "execution_count": null,
   "metadata": {},
   "outputs": [],
   "source": []
  }
 ],
 "metadata": {
  "kernelspec": {
   "display_name": "Python 3",
   "language": "python",
   "name": "python3"
  },
  "language_info": {
   "codemirror_mode": {
    "name": "ipython",
    "version": 3
   },
   "file_extension": ".py",
   "mimetype": "text/x-python",
   "name": "python",
   "nbconvert_exporter": "python",
   "pygments_lexer": "ipython3",
   "version": "3.7.6"
  }
 },
 "nbformat": 4,
 "nbformat_minor": 4
}
