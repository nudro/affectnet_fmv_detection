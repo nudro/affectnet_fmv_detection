version https://git-lfs.github.com/spec/v1
oid sha256:9f543febaa5b0cf76270cbc0690a16b4e1824347bbf6dd2c1b70ef4cc087749f
size 28789
