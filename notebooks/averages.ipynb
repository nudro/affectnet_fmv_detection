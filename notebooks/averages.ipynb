version https://git-lfs.github.com/spec/v1
oid sha256:8ffec67a5a647c6cd82a0eb763881bed739761df54a242367cbdf29f9e00c66f
size 170312
